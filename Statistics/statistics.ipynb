{
  "nbformat": 4,
  "nbformat_minor": 0,
  "metadata": {
    "colab": {
      "provenance": []
    },
    "kernelspec": {
      "name": "python3",
      "display_name": "Python 3"
    },
    "language_info": {
      "name": "python"
    }
  },
  "cells": [
    {
      "cell_type": "code",
      "source": [
        "import pandas as pd\n",
        "import statistics\n",
        "from statistics import mode\n",
        "from scipy.stats import pearsonr, spearmanr\n",
        "import numpy as np\n",
        "from sklearn.preprocessing import StandardScaler\n",
        "\n"
      ],
      "metadata": {
        "id": "I0Nhfccb6i5A"
      },
      "execution_count": 30,
      "outputs": []
    },
    {
      "cell_type": "markdown",
      "source": [
        "STATISTICS"
      ],
      "metadata": {
        "id": "bkRDN_1T8eFs"
      }
    },
    {
      "cell_type": "code",
      "execution_count": 5,
      "metadata": {
        "colab": {
          "base_uri": "https://localhost:8080/"
        },
        "id": "-CH5CoCw5D6l",
        "outputId": "d729a322-4925-41df-bbcc-dcba4c4a883b"
      },
      "outputs": [
        {
          "output_type": "stream",
          "name": "stdout",
          "text": [
            "\n",
            "Tertiary Enrollment Rate % 0-100\n",
            "--------------------------------\n",
            "Count              : 193\n",
            "Mean               : 43.26\n",
            "Median             : 42.36\n",
            "Mode               : 23.09\n",
            "Variance           : 781.66\n",
            "Standard Deviation : 27.96\n",
            "\n",
            "Adult Literacy Rate % 0-100\n",
            "---------------------------\n",
            "Count              : 266\n",
            "Mean               : 79.10\n",
            "Median             : 79.79\n",
            "Mode               : 66.34\n",
            "Variance           : 126.08\n",
            "Standard Deviation : 11.23\n",
            "\n",
            "Happiness Score 0-10\n",
            "--------------------\n",
            "Count              : 155\n",
            "Mean               : 5.35\n",
            "Median             : 5.28\n",
            "Mode               : 7.28\n",
            "Variance           : 1.28\n",
            "Standard Deviation : 1.13\n"
          ]
        }
      ],
      "source": [
        "\n",
        "# Load happiness data\n",
        "happiness_df = pd.read_csv(\"Countries' Happiness Data 2017.csv\")\n",
        "happiness_scores = happiness_df[\"Happiness.Score\"].dropna().tolist()\n",
        "\n",
        "# Load literacy data\n",
        "with open(\"API_SE.ADT.LITR.ZS_DS2_en_csv_v2_19396.csv\", \"r\", encoding=\"utf-8\") as f:\n",
        "    lines_lit = f.readlines()\n",
        "\n",
        "for i, line in enumerate(lines_lit):\n",
        "    if \"2017\" in line:\n",
        "        header = line.strip().split(\",\")\n",
        "        lit_index = [j for j, col in enumerate(header) if col.strip('\"') == \"2017\"][0]\n",
        "        data_start_lit = i + 1\n",
        "        break\n",
        "\n",
        "literacy_rates = []\n",
        "for line in lines_lit[data_start_lit:]:\n",
        "    parts = line.strip().split(\",\")\n",
        "    try:\n",
        "        value = float(parts[lit_index].strip().strip('\"'))\n",
        "        literacy_rates.append(value)\n",
        "    except:\n",
        "        continue\n",
        "\n",
        "# Load enrollment data\n",
        "with open(\"API_SE.TER.ENRR_DS2_en_csv_v2_23897.csv\", \"r\", encoding=\"utf-8\") as f:\n",
        "    lines_enr = f.readlines()\n",
        "\n",
        "enrollment_rates = []\n",
        "for line in lines_enr[5:]:\n",
        "    parts = line.strip().split(\",\")\n",
        "    try:\n",
        "        value = float(parts[61].strip().strip('\"'))\n",
        "        enrollment_rates.append(value)\n",
        "    except:\n",
        "        continue\n",
        "\n",
        "# Function to calculate and display stats\n",
        "def describe_data(data, label):\n",
        "    print(f\"\\n{label}\")\n",
        "    print(\"-\" * len(label))\n",
        "    print(f\"Count              : {len(data)}\")\n",
        "    print(f\"Mean               : {statistics.mean(data):.2f}\")\n",
        "    print(f\"Median             : {statistics.median(data):.2f}\")\n",
        "    try:\n",
        "        print(f\"Mode               : {statistics.mode(data):.2f}\")\n",
        "    except statistics.StatisticsError:\n",
        "        print(\"Mode               : No unique mode\")\n",
        "    print(f\"Variance           : {statistics.variance(data):.2f}\")\n",
        "    print(f\"Standard Deviation : {statistics.stdev(data):.2f}\")\n",
        "\n",
        "# Output stats for all three datasets\n",
        "describe_data(enrollment_rates, \"Tertiary Enrollment Rate % 0-100\")\n",
        "describe_data(literacy_rates, \"Adult Literacy Rate % 0-100\")\n",
        "describe_data(happiness_scores, \"Happiness Score % 0-10\")\n"
      ]
    },
    {
      "cell_type": "code",
      "source": [
        "forest_df = pd.read_csv(\"Forest_Area_2017_Countries.csv\")\n",
        "\n",
        "forest_data = forest_df[\"2017\"].dropna()\n",
        "\n",
        "count = forest_data.count()\n",
        "mean = forest_data.mean()\n",
        "median = forest_data.median()\n",
        "try:\n",
        "    mode_val = mode(forest_data)\n",
        "except:\n",
        "    mode_val = \"No unique mode\"\n",
        "variance = forest_data.var()\n",
        "std_dev = forest_data.std()\n",
        "\n",
        "print(\"Forest Area Ratio %0-100\")\n",
        "print(\" \")\n",
        "print(f\"Count : {count}\")\n",
        "print(f\"Mean : {mean:.2f}\")\n",
        "print(f\"Median : {median:.2f}\")\n",
        "print(f\"Mode : {mode_val}\")\n",
        "print(f\"Variance : {variance:.2f}\")\n",
        "print(f\"Standard Deviation : {std_dev:.2f}\")"
      ],
      "metadata": {
        "colab": {
          "base_uri": "https://localhost:8080/"
        },
        "id": "PUBZwc3A66t8",
        "outputId": "6ac70625-b753-4692-fcff-1ac99e74a2ab"
      },
      "execution_count": 8,
      "outputs": [
        {
          "output_type": "stream",
          "name": "stdout",
          "text": [
            "Forest Area Ratio %0-100\n",
            " \n",
            "Count : 222\n",
            "Mean : 32.59\n",
            "Median : 31.18\n",
            "Mode : 0.0\n",
            "Variance : 559.32\n",
            "Standard Deviation : 23.65\n"
          ]
        }
      ]
    },
    {
      "cell_type": "code",
      "source": [
        "df_pm25 = pd.read_excel(\"PM2.5_2017_Countries.xlsx\")\n",
        "\n",
        "print(\"Air Pollution \\n\")\n",
        "pm25_stats = {\n",
        "    'Count': int(df_pm25['PM2.5_2017'].count()),\n",
        "    'Mean': round(float(df_pm25['PM2.5_2017'].mean()), 2),\n",
        "    'Median': round(float(df_pm25['PM2.5_2017'].median()), 2),\n",
        "    'Mode': round(float(df_pm25['PM2.5_2017'].mode()[0]), 2),\n",
        "    'Variance': round(float(df_pm25['PM2.5_2017'].var()), 2),\n",
        "    'Standard Deviation': round(float(df_pm25['PM2.5_2017'].std()), 2)\n",
        "}\n",
        "\n",
        "for k, v in pm25_stats.items():\n",
        "    print(f\"{k} : {v}\")"
      ],
      "metadata": {
        "colab": {
          "base_uri": "https://localhost:8080/"
        },
        "id": "Rcfh81gA7Rh-",
        "outputId": "091d57cd-0c89-4942-b494-9f88ebbaa1e3"
      },
      "execution_count": 10,
      "outputs": [
        {
          "output_type": "stream",
          "name": "stdout",
          "text": [
            "Air Pollution \n",
            "\n",
            "Count : 248\n",
            "Mean : 27.06\n",
            "Median : 21.86\n",
            "Mode : 40.78\n",
            "Variance : 300.03\n",
            "Standard Deviation : 17.32\n"
          ]
        }
      ]
    },
    {
      "cell_type": "code",
      "source": [
        "df = pd.read_csv(\"coastlines.csv\")\n",
        "df = df.dropna(subset=[\"coast_to_area_wf\"])\n",
        "df[\"coast_ratio\"] = df[\"coast_to_area_wf\"]\n",
        "\n",
        "data = df[\"coast_ratio\"]\n",
        "\n",
        "print(\"Coastline-to-Area Ratio % 0–100\")\n",
        "print(f\"\\nCount : {data.count()}\")\n",
        "print(f\"Mean : {data.mean():.2f}\")\n",
        "print(f\"Median : {data.median():.2f}\")\n",
        "print(f\"Mode : {data.mode().iloc[0]:.2f}\")\n",
        "print(f\"Variance : {data.var():.2f}\")\n",
        "print(f\"Standard Deviation : {data.std():.2f}\")"
      ],
      "metadata": {
        "colab": {
          "base_uri": "https://localhost:8080/"
        },
        "id": "seJJ753M78-A",
        "outputId": "380b1184-0caa-4407-825f-a27aa74bf9cd"
      },
      "execution_count": 14,
      "outputs": [
        {
          "output_type": "stream",
          "name": "stdout",
          "text": [
            "Coastline-to-Area Ratio % 0–100\n",
            "\n",
            "Count : 235\n",
            "Mean : 26.74\n",
            "Median : 0.82\n",
            "Mode : 0.00\n",
            "Variance : 8235.38\n",
            "Standard Deviation : 90.75\n"
          ]
        }
      ]
    },
    {
      "cell_type": "code",
      "source": [
        "df = pd.read_csv(\"arable_land_2017.csv\")\n",
        "data = df[\"arable_land_percent\"].dropna()\n",
        "\n",
        "print(\"Arable Land Ratio % 0–100\")\n",
        "print(f\"\\nCount : {data.count()}\")\n",
        "print(f\"Mean : {data.mean():.2f}\")\n",
        "print(f\"Median : {data.median():.2f}\")\n",
        "print(f\"Mode : {data.mode().iloc[0]:.2f}\")\n",
        "print(f\"Variance : {data.var():.2f}\")\n",
        "print(f\"Standard Deviation : {data.std():.2f}\")"
      ],
      "metadata": {
        "colab": {
          "base_uri": "https://localhost:8080/"
        },
        "id": "_i0WmxlR8Kr7",
        "outputId": "199e4e7a-1c23-4145-d72c-62641f391b29"
      },
      "execution_count": 17,
      "outputs": [
        {
          "output_type": "stream",
          "name": "stdout",
          "text": [
            "Arable Land Ratio % 0–100\n",
            "\n",
            "Count : 255\n",
            "Mean : 13.68\n",
            "Median : 10.08\n",
            "Mode : 2.86\n",
            "Variance : 167.22\n",
            "Standard Deviation : 12.93\n"
          ]
        }
      ]
    },
    {
      "cell_type": "markdown",
      "source": [
        "P VALUE AND CORRELATION COEFFICIENTS"
      ],
      "metadata": {
        "id": "azTjmDs88hYb"
      }
    },
    {
      "cell_type": "code",
      "source": [
        "\n",
        "# 1. P-VALUE & PEARSON CORRELATION\n",
        "\n",
        "\n",
        "\n",
        "\n",
        "# Load Happiness Data\n",
        "happiness_df = pd.read_csv(\"Countries' Happiness Data 2017.csv\")\n",
        "\n",
        "# Match Adult Literacy Rate with Happiness\n",
        "with open(\"API_SE.ADT.LITR.ZS_DS2_en_csv_v2_19396.csv\", \"r\", encoding=\"utf-8\") as f:\n",
        "    lines_lit = f.readlines()\n",
        "\n",
        "for i, line in enumerate(lines_lit):\n",
        "    if \"2017\" in line:\n",
        "        header = line.strip().split(\",\")\n",
        "        lit_index = [j for j, col in enumerate(header) if col.strip('\"') == \"2017\"][0]\n",
        "        data_start_lit = i + 1\n",
        "        break\n",
        "\n",
        "common_lit_scores = []\n",
        "common_lit_happy = []\n",
        "\n",
        "for line in lines_lit[data_start_lit:]:\n",
        "    parts = line.strip().split(\",\")\n",
        "    country = parts[0].strip('\"')\n",
        "    try:\n",
        "        lit_val = float(parts[lit_index].strip().strip('\"'))\n",
        "        row = happiness_df[happiness_df[\"Country\"] == country]\n",
        "        if not row.empty:\n",
        "            common_lit_scores.append(lit_val)\n",
        "            common_lit_happy.append(float(row[\"Happiness.Score\"].values[0]))\n",
        "    except:\n",
        "        continue\n",
        "\n",
        "# Match Tertiary Enrollment with Happiness\n",
        "with open(\"API_SE.TER.ENRR_DS2_en_csv_v2_23897.csv\", \"r\", encoding=\"utf-8\") as f:\n",
        "    lines_enr = f.readlines()\n",
        "\n",
        "common_enr_scores = []\n",
        "common_enr_happy = []\n",
        "\n",
        "for line in lines_enr[5:]:\n",
        "    parts = line.strip().split(\",\")\n",
        "    country = parts[0].strip('\"')\n",
        "    try:\n",
        "        enr_val = float(parts[61].strip().strip('\"'))\n",
        "        row = happiness_df[happiness_df[\"Country\"] == country]\n",
        "        if not row.empty:\n",
        "            common_enr_scores.append(enr_val)\n",
        "            common_enr_happy.append(float(row[\"Happiness.Score\"].values[0]))\n",
        "    except:\n",
        "        continue\n",
        "\n",
        "# 2. PEARSON CORRELATION RESULTS\n",
        "\n",
        "def pearson_stats(x, y, label):\n",
        "    r, p = pearsonr(x, y)\n",
        "    print(f\"\\n{label} (Pearson Correlation)\")\n",
        "    print(\"-\" * (len(label) + 26))\n",
        "    print(f\"Correlation Coefficient (r): {r:.4f}\")\n",
        "    print(f\"P-value                    : {p:.4e}\")\n",
        "\n",
        "pearson_stats(common_enr_scores, common_enr_happy, \"Tertiary Enrollment vs Happiness\")\n",
        "pearson_stats(common_lit_scores, common_lit_happy, \"Literacy Rate vs Happiness\")\n",
        "\n",
        "# 3. SPEARMAN CORRELATION RESULTS\n",
        "\n",
        "def spearman_stats(x, y, label):\n",
        "    r, p = spearmanr(x, y)\n",
        "    print(f\"\\n{label} (Spearman Correlation)\")\n",
        "    print(\"-\" * (len(label) + 27))\n",
        "    print(f\"Correlation Coefficient (ρ): {r:.4f}\")\n",
        "    print(f\"P-value                    : {p:.4e}\")\n",
        "\n",
        "spearman_stats(common_enr_scores, common_enr_happy, \"Tertiary Enrollment vs Happiness Score\")\n",
        "spearman_stats(common_lit_scores, common_lit_happy, \"Literacy Rate vs Happiness Score\")\n"
      ],
      "metadata": {
        "colab": {
          "base_uri": "https://localhost:8080/"
        },
        "id": "OsjCef268o7R",
        "outputId": "41125e4a-8b32-412a-b240-55b04b59a335"
      },
      "execution_count": 18,
      "outputs": [
        {
          "output_type": "stream",
          "name": "stdout",
          "text": [
            "\n",
            "Tertiary Enrollment vs Happiness (Pearson Correlation)\n",
            "----------------------------------------------------------\n",
            "Correlation Coefficient (r): 0.6404\n",
            "P-value                    : 3.7797e-14\n",
            "\n",
            "Literacy Rate vs Happiness (Pearson Correlation)\n",
            "----------------------------------------------------\n",
            "Correlation Coefficient (r): 0.1199\n",
            "P-value                    : 1.5808e-01\n",
            "\n",
            "Tertiary Enrollment vs Happiness Score (Spearman Correlation)\n",
            "-----------------------------------------------------------------\n",
            "Correlation Coefficient (ρ): 0.6491\n",
            "P-value                    : 1.3098e-14\n",
            "\n",
            "Literacy Rate vs Happiness Score (Spearman Correlation)\n",
            "-----------------------------------------------------------\n",
            "Correlation Coefficient (ρ): 0.1164\n",
            "P-value                    : 1.7093e-01\n"
          ]
        }
      ]
    },
    {
      "cell_type": "code",
      "source": [
        "\n",
        "forest_df = pd.read_csv(\"Forest_Area_2017_Countries.csv\")\n",
        "happiness_df = pd.read_excel(\"Filtered_Happiness_Data_2017 (1).xlsx\")\n",
        "\n",
        "merged_df = pd.merge(happiness_df, forest_df, left_on=\"Country\", right_on=\"Country Name\")\n",
        "\n",
        "forest = merged_df[\"2017\"]\n",
        "happiness = merged_df[\"Happiness.Score\"]\n",
        "\n",
        "pearson_corr, pearson_p = pearsonr(forest, happiness)\n",
        "\n",
        "spearman_corr, spearman_p = spearmanr(forest, happiness)\n",
        "\n",
        "print(\"Forest Area vs Happiness Score (Pearson Correlation)\")\n",
        "print(f\"Correlation Coefficient (r): {pearson_corr:.4f}\")\n",
        "print(f\"P-value                 : {pearson_p:.4e}\")\n",
        "print()\n",
        "\n",
        "print(\"Forest Area vs Happiness Score (Spearman Correlation)\")\n",
        "print(f\"Correlation Coefficient (ρ): {spearman_corr:.4f}\")\n",
        "print(f\"P-value                   : {spearman_p:.4e}\")\n"
      ],
      "metadata": {
        "colab": {
          "base_uri": "https://localhost:8080/"
        },
        "id": "Xb1SZy8I9BXY",
        "outputId": "b8334062-51aa-4e47-fe4e-8610c12f957b"
      },
      "execution_count": 22,
      "outputs": [
        {
          "output_type": "stream",
          "name": "stdout",
          "text": [
            "Forest Area vs Happiness Score (Pearson Correlation)\n",
            "Correlation Coefficient (r): 0.0957\n",
            "P-value                 : 2.7854e-01\n",
            "\n",
            "Forest Area vs Happiness Score (Spearman Correlation)\n",
            "Correlation Coefficient (ρ): 0.1037\n",
            "P-value                   : 2.4025e-01\n"
          ]
        }
      ]
    },
    {
      "cell_type": "code",
      "source": [
        "\n",
        "\n",
        "happiness_df = pd.read_excel(\"Filtered_Happiness_Data_2017 (1).xlsx\")[['Country', 'Happiness.Score']]\n",
        "pm25_df = pd.read_excel(\"PM2.5_2017_Countries.xlsx\")\n",
        "\n",
        "merged_df = pd.merge(happiness_df, pm25_df, on='Country')\n",
        "\n",
        "pearson_corr, pearson_p = pearsonr(merged_df['PM2.5_2017'], merged_df['Happiness.Score'])\n",
        "spearman_corr, spearman_p = spearmanr(merged_df['PM2.5_2017'], merged_df['Happiness.Score'])\n",
        "\n",
        "print(\"Air Pollution (PM2.5) vs Happiness Score\")\n",
        "print(f\"Pearson Correlation Coefficient (r): {round(pearson_corr, 4)}\")\n",
        "print(f\"Pearson P-value                   : {round(pearson_p, 4)}\\n\")\n",
        "print(f\"Spearman Correlation Coefficient (ρ): {round(spearman_corr, 4)}\")\n",
        "print(f\"Spearman P-value                     : {round(spearman_p, 4)}\")\n"
      ],
      "metadata": {
        "colab": {
          "base_uri": "https://localhost:8080/"
        },
        "id": "Q0rMZXPM9hSo",
        "outputId": "a47083b0-7909-45d6-e7eb-bfbb152f944c"
      },
      "execution_count": 24,
      "outputs": [
        {
          "output_type": "stream",
          "name": "stdout",
          "text": [
            "Air Pollution (PM2.5) vs Happiness Score\n",
            "Pearson Correlation Coefficient (r): -0.4664\n",
            "Pearson P-value                   : 0.0\n",
            "\n",
            "Spearman Correlation Coefficient (ρ): -0.5832\n",
            "Spearman P-value                     : 0.0\n"
          ]
        }
      ]
    },
    {
      "cell_type": "code",
      "source": [
        "\n",
        "\n",
        "coast_df = pd.read_csv(\"coastlines.csv\")\n",
        "happiness_df = pd.read_excel(\"Filtered_Happiness_Data_2017 (1).xlsx\")\n",
        "\n",
        "coast_df = coast_df[[\"Country\", \"coast_to_area_wf\"]].dropna()\n",
        "coast_df.columns = [\"Country\", \"coast_ratio\"]\n",
        "\n",
        "coast_df[\"coast_log\"] = np.log1p(coast_df[\"coast_ratio\"])\n",
        "scaler = StandardScaler()\n",
        "coast_df[\"coast_log_scaled\"] = scaler.fit_transform(coast_df[[\"coast_log\"]])\n",
        "\n",
        "merged = happiness_df.merge(coast_df, on=\"Country\", how=\"inner\")\n",
        "\n",
        "pearson_r, pearson_p = pearsonr(merged[\"coast_log_scaled\"], merged[\"Happiness.Score\"])\n",
        "spearman_r, spearman_p = spearmanr(merged[\"coast_log_scaled\"], merged[\"Happiness.Score\"])\n",
        "\n",
        "print(\"* Coastline Ratio vs Happiness Score (Log + Scaled)\\n\")\n",
        "\n",
        "print(\"   Pearson Correlation\")\n",
        "print(f\"   Correlation Coefficient (r): {pearson_r:.4f}\")\n",
        "print(f\"   P-value                    : {pearson_p:.5f}\\n\")\n",
        "\n",
        "print(\"   Spearman Correlation\")\n",
        "print(f\"   Correlation Coefficient (ρ): {spearman_r:.4f}\")\n",
        "print(f\"   P-value                    : {spearman_p:.5f}\")\n"
      ],
      "metadata": {
        "colab": {
          "base_uri": "https://localhost:8080/"
        },
        "id": "J_n_a84c9tiq",
        "outputId": "c5612380-00c2-4236-bb55-ef5dd797b44e"
      },
      "execution_count": 31,
      "outputs": [
        {
          "output_type": "stream",
          "name": "stdout",
          "text": [
            "* Coastline Ratio vs Happiness Score (Log + Scaled)\n",
            "\n",
            "   Pearson Correlation\n",
            "   Correlation Coefficient (r): 0.3608\n",
            "   P-value                    : 0.00001\n",
            "\n",
            "   Spearman Correlation\n",
            "   Correlation Coefficient (ρ): 0.4206\n",
            "   P-value                    : 0.00000\n"
          ]
        }
      ]
    },
    {
      "cell_type": "code",
      "source": [
        "arable_df = pd.read_csv(\"arable_land_2017.csv\")\n",
        "happiness_df = pd.read_excel(\"Filtered_Happiness_Data_2017 (1).xlsx\")\n",
        "\n",
        "arable_df[\"arable_log\"] = np.log1p(arable_df[\"arable_land_percent\"])\n",
        "scaler = StandardScaler()\n",
        "arable_df[\"arable_log_scaled\"] = scaler.fit_transform(arable_df[[\"arable_log\"]])\n",
        "\n",
        "merged = happiness_df.merge(arable_df, left_on=\"Country\", right_on=\"country\", how=\"inner\")\n",
        "\n",
        "pearson_r, pearson_p = pearsonr(merged[\"arable_log_scaled\"], merged[\"Happiness.Score\"])\n",
        "spearman_r, spearman_p = spearmanr(merged[\"arable_log_scaled\"], merged[\"Happiness.Score\"])\n",
        "\n",
        "print(\"* Arable Land vs Happiness Score (Log + Scaled)\\n\")\n",
        "\n",
        "print(\"   Pearson Correlation\")\n",
        "print(f\"   Correlation Coefficient (r): {pearson_r:.4f}\")\n",
        "print(f\"   P-value                    : {pearson_p:.4f}\\n\")\n",
        "\n",
        "print(\"   Spearman Correlation\")\n",
        "print(f\"   Correlation Coefficient (ρ): {spearman_r:.4f}\")\n",
        "print(f\"   P-value                    : {spearman_p:.4f}\")"
      ],
      "metadata": {
        "colab": {
          "base_uri": "https://localhost:8080/"
        },
        "id": "ifFqTcJ0-0Hr",
        "outputId": "a4a5809f-d553-493b-fd90-af91209edbb0"
      },
      "execution_count": 32,
      "outputs": [
        {
          "output_type": "stream",
          "name": "stdout",
          "text": [
            "* Arable Land vs Happiness Score (Log + Scaled)\n",
            "\n",
            "   Pearson Correlation\n",
            "   Correlation Coefficient (r): -0.1380\n",
            "   P-value                    : 0.1117\n",
            "\n",
            "   Spearman Correlation\n",
            "   Correlation Coefficient (ρ): -0.1371\n",
            "   P-value                    : 0.1141\n"
          ]
        }
      ]
    }
  ]
}